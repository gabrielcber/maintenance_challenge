{
 "cells": [
  {
   "cell_type": "code",
   "execution_count": 1,
   "id": "87418199",
   "metadata": {},
   "outputs": [
    {
     "name": "stdout",
     "output_type": "stream",
     "text": [
      "2022-04-17 17:36:04,735 - visions.backends - INFO - Pandas backend loaded 1.4.2\n",
      "2022-04-17 17:36:04,739 - visions.backends - INFO - Numpy backend loaded 1.22.3\n",
      "2022-04-17 17:36:04,740 - visions.backends - INFO - Pyspark backend NOT loaded\n",
      "2022-04-17 17:36:04,741 - visions.backends - INFO - Python backend loaded\n"
     ]
    },
    {
     "name": "stderr",
     "output_type": "stream",
     "text": [
      "/home/lilivah/defy/defy/venv/lib/python3.8/site-packages/pandas_profiling/model/summary_algorithms.py:7: DeprecationWarning: Please use `chisquare` from the `scipy.stats` namespace, the `scipy.stats.stats` namespace is deprecated.\n",
      "  from scipy.stats.stats import chisquare\n"
     ]
    }
   ],
   "source": [
    "import pandas as pd\n",
    "import numpy as np\n",
    "import seaborn as sns\n",
    "from pandas_profiling import ProfileReport\n",
    "import os"
   ]
  },
  {
   "cell_type": "code",
   "execution_count": 2,
   "id": "4214e17d",
   "metadata": {},
   "outputs": [
    {
     "name": "stdout",
     "output_type": "stream",
     "text": [
      "2022-04-17 17:36:06,170 - kedro.io.data_catalog - INFO - Loading data from `maintenance_data` (CSVDataSet)...\n"
     ]
    }
   ],
   "source": [
    "data = catalog.load('maintenance_data')"
   ]
  },
  {
   "cell_type": "code",
   "execution_count": 76,
   "id": "0bb2203c",
   "metadata": {},
   "outputs": [
    {
     "data": {
      "text/html": [
       "<div>\n",
       "<style scoped>\n",
       "    .dataframe tbody tr th:only-of-type {\n",
       "        vertical-align: middle;\n",
       "    }\n",
       "\n",
       "    .dataframe tbody tr th {\n",
       "        vertical-align: top;\n",
       "    }\n",
       "\n",
       "    .dataframe thead th {\n",
       "        text-align: right;\n",
       "    }\n",
       "</style>\n",
       "<table border=\"1\" class=\"dataframe\">\n",
       "  <thead>\n",
       "    <tr style=\"text-align: right;\">\n",
       "      <th></th>\n",
       "      <th>class</th>\n",
       "      <th>aa_000</th>\n",
       "      <th>ab_000</th>\n",
       "      <th>ac_000</th>\n",
       "      <th>ad_000</th>\n",
       "      <th>ae_000</th>\n",
       "      <th>af_000</th>\n",
       "      <th>ag_000</th>\n",
       "      <th>ag_001</th>\n",
       "      <th>ag_002</th>\n",
       "      <th>...</th>\n",
       "      <th>ee_003</th>\n",
       "      <th>ee_004</th>\n",
       "      <th>ee_005</th>\n",
       "      <th>ee_006</th>\n",
       "      <th>ee_007</th>\n",
       "      <th>ee_008</th>\n",
       "      <th>ee_009</th>\n",
       "      <th>ef_000</th>\n",
       "      <th>eg_000</th>\n",
       "      <th>2020</th>\n",
       "    </tr>\n",
       "  </thead>\n",
       "  <tbody>\n",
       "    <tr>\n",
       "      <th>0</th>\n",
       "      <td>neg</td>\n",
       "      <td>76698</td>\n",
       "      <td>na</td>\n",
       "      <td>2130706438</td>\n",
       "      <td>280</td>\n",
       "      <td>0</td>\n",
       "      <td>0</td>\n",
       "      <td>0</td>\n",
       "      <td>0</td>\n",
       "      <td>0</td>\n",
       "      <td>...</td>\n",
       "      <td>493384</td>\n",
       "      <td>721044</td>\n",
       "      <td>469792</td>\n",
       "      <td>339156</td>\n",
       "      <td>157956</td>\n",
       "      <td>73224</td>\n",
       "      <td>0</td>\n",
       "      <td>0</td>\n",
       "      <td>0</td>\n",
       "      <td>0</td>\n",
       "    </tr>\n",
       "    <tr>\n",
       "      <th>1</th>\n",
       "      <td>neg</td>\n",
       "      <td>33058</td>\n",
       "      <td>na</td>\n",
       "      <td>0</td>\n",
       "      <td>na</td>\n",
       "      <td>0</td>\n",
       "      <td>0</td>\n",
       "      <td>0</td>\n",
       "      <td>0</td>\n",
       "      <td>0</td>\n",
       "      <td>...</td>\n",
       "      <td>178064</td>\n",
       "      <td>293306</td>\n",
       "      <td>245416</td>\n",
       "      <td>133654</td>\n",
       "      <td>81140</td>\n",
       "      <td>97576</td>\n",
       "      <td>1500</td>\n",
       "      <td>0</td>\n",
       "      <td>0</td>\n",
       "      <td>0</td>\n",
       "    </tr>\n",
       "    <tr>\n",
       "      <th>2</th>\n",
       "      <td>neg</td>\n",
       "      <td>41040</td>\n",
       "      <td>na</td>\n",
       "      <td>228</td>\n",
       "      <td>100</td>\n",
       "      <td>0</td>\n",
       "      <td>0</td>\n",
       "      <td>0</td>\n",
       "      <td>0</td>\n",
       "      <td>0</td>\n",
       "      <td>...</td>\n",
       "      <td>159812</td>\n",
       "      <td>423992</td>\n",
       "      <td>409564</td>\n",
       "      <td>320746</td>\n",
       "      <td>158022</td>\n",
       "      <td>95128</td>\n",
       "      <td>514</td>\n",
       "      <td>0</td>\n",
       "      <td>0</td>\n",
       "      <td>0</td>\n",
       "    </tr>\n",
       "    <tr>\n",
       "      <th>3</th>\n",
       "      <td>neg</td>\n",
       "      <td>12</td>\n",
       "      <td>0</td>\n",
       "      <td>70</td>\n",
       "      <td>66</td>\n",
       "      <td>0</td>\n",
       "      <td>10</td>\n",
       "      <td>0</td>\n",
       "      <td>0</td>\n",
       "      <td>0</td>\n",
       "      <td>...</td>\n",
       "      <td>46</td>\n",
       "      <td>58</td>\n",
       "      <td>44</td>\n",
       "      <td>10</td>\n",
       "      <td>0</td>\n",
       "      <td>0</td>\n",
       "      <td>0</td>\n",
       "      <td>4</td>\n",
       "      <td>32</td>\n",
       "      <td>0</td>\n",
       "    </tr>\n",
       "    <tr>\n",
       "      <th>4</th>\n",
       "      <td>neg</td>\n",
       "      <td>60874</td>\n",
       "      <td>na</td>\n",
       "      <td>1368</td>\n",
       "      <td>458</td>\n",
       "      <td>0</td>\n",
       "      <td>0</td>\n",
       "      <td>0</td>\n",
       "      <td>0</td>\n",
       "      <td>0</td>\n",
       "      <td>...</td>\n",
       "      <td>229790</td>\n",
       "      <td>405298</td>\n",
       "      <td>347188</td>\n",
       "      <td>286954</td>\n",
       "      <td>311560</td>\n",
       "      <td>433954</td>\n",
       "      <td>1218</td>\n",
       "      <td>0</td>\n",
       "      <td>0</td>\n",
       "      <td>0</td>\n",
       "    </tr>\n",
       "  </tbody>\n",
       "</table>\n",
       "<p>5 rows × 172 columns</p>\n",
       "</div>"
      ],
      "text/plain": [
       "  class  aa_000 ab_000      ac_000 ad_000 ae_000 af_000 ag_000 ag_001 ag_002  \\\n",
       "0   neg   76698     na  2130706438    280      0      0      0      0      0   \n",
       "1   neg   33058     na           0     na      0      0      0      0      0   \n",
       "2   neg   41040     na         228    100      0      0      0      0      0   \n",
       "3   neg      12      0          70     66      0     10      0      0      0   \n",
       "4   neg   60874     na        1368    458      0      0      0      0      0   \n",
       "\n",
       "   ...  ee_003  ee_004  ee_005  ee_006  ee_007  ee_008 ee_009 ef_000 eg_000  \\\n",
       "0  ...  493384  721044  469792  339156  157956   73224      0      0      0   \n",
       "1  ...  178064  293306  245416  133654   81140   97576   1500      0      0   \n",
       "2  ...  159812  423992  409564  320746  158022   95128    514      0      0   \n",
       "3  ...      46      58      44      10       0       0      0      4     32   \n",
       "4  ...  229790  405298  347188  286954  311560  433954   1218      0      0   \n",
       "\n",
       "  2020  \n",
       "0    0  \n",
       "1    0  \n",
       "2    0  \n",
       "3    0  \n",
       "4    0  \n",
       "\n",
       "[5 rows x 172 columns]"
      ]
     },
     "execution_count": 76,
     "metadata": {},
     "output_type": "execute_result"
    }
   ],
   "source": [
    "data.head(5)"
   ]
  },
  {
   "cell_type": "code",
   "execution_count": 5,
   "id": "ec9fcf5c",
   "metadata": {
    "scrolled": true
   },
   "outputs": [
    {
     "name": "stdout",
     "output_type": "stream",
     "text": [
      "<class 'pandas.core.frame.DataFrame'>\n",
      "RangeIndex: 76000 entries, 0 to 75999\n",
      "Columns: 172 entries, class to 2020\n",
      "dtypes: int64(2), object(170)\n",
      "memory usage: 99.7+ MB\n"
     ]
    }
   ],
   "source": [
    "data.info()"
   ]
  },
  {
   "cell_type": "code",
   "execution_count": 6,
   "id": "f52aad29",
   "metadata": {},
   "outputs": [
    {
     "data": {
      "text/html": [
       "<div>\n",
       "<style scoped>\n",
       "    .dataframe tbody tr th:only-of-type {\n",
       "        vertical-align: middle;\n",
       "    }\n",
       "\n",
       "    .dataframe tbody tr th {\n",
       "        vertical-align: top;\n",
       "    }\n",
       "\n",
       "    .dataframe thead th {\n",
       "        text-align: right;\n",
       "    }\n",
       "</style>\n",
       "<table border=\"1\" class=\"dataframe\">\n",
       "  <thead>\n",
       "    <tr style=\"text-align: right;\">\n",
       "      <th></th>\n",
       "      <th>aa_000</th>\n",
       "      <th>2020</th>\n",
       "    </tr>\n",
       "  </thead>\n",
       "  <tbody>\n",
       "    <tr>\n",
       "      <th>count</th>\n",
       "      <td>7.600000e+04</td>\n",
       "      <td>76000.000000</td>\n",
       "    </tr>\n",
       "    <tr>\n",
       "      <th>mean</th>\n",
       "      <td>6.115976e+04</td>\n",
       "      <td>0.210526</td>\n",
       "    </tr>\n",
       "    <tr>\n",
       "      <th>std</th>\n",
       "      <td>2.647366e+05</td>\n",
       "      <td>0.407685</td>\n",
       "    </tr>\n",
       "    <tr>\n",
       "      <th>min</th>\n",
       "      <td>0.000000e+00</td>\n",
       "      <td>0.000000</td>\n",
       "    </tr>\n",
       "    <tr>\n",
       "      <th>25%</th>\n",
       "      <td>8.600000e+02</td>\n",
       "      <td>0.000000</td>\n",
       "    </tr>\n",
       "    <tr>\n",
       "      <th>50%</th>\n",
       "      <td>3.081300e+04</td>\n",
       "      <td>0.000000</td>\n",
       "    </tr>\n",
       "    <tr>\n",
       "      <th>75%</th>\n",
       "      <td>4.884000e+04</td>\n",
       "      <td>0.000000</td>\n",
       "    </tr>\n",
       "    <tr>\n",
       "      <th>max</th>\n",
       "      <td>4.294967e+07</td>\n",
       "      <td>1.000000</td>\n",
       "    </tr>\n",
       "  </tbody>\n",
       "</table>\n",
       "</div>"
      ],
      "text/plain": [
       "             aa_000          2020\n",
       "count  7.600000e+04  76000.000000\n",
       "mean   6.115976e+04      0.210526\n",
       "std    2.647366e+05      0.407685\n",
       "min    0.000000e+00      0.000000\n",
       "25%    8.600000e+02      0.000000\n",
       "50%    3.081300e+04      0.000000\n",
       "75%    4.884000e+04      0.000000\n",
       "max    4.294967e+07      1.000000"
      ]
     },
     "execution_count": 6,
     "metadata": {},
     "output_type": "execute_result"
    }
   ],
   "source": [
    "data.describe()"
   ]
  },
  {
   "cell_type": "code",
   "execution_count": 40,
   "id": "857b6333",
   "metadata": {},
   "outputs": [
    {
     "name": "stdout",
     "output_type": "stream",
     "text": [
      "        2020\n",
      "class       \n",
      "neg    74625\n",
      "pos     1375\n"
     ]
    }
   ],
   "source": [
    "count_class = data[['2020', 'class']].groupby('class').count()\n",
    "print(count_class)"
   ]
  },
  {
   "cell_type": "code",
   "execution_count": 39,
   "id": "b68e0bc1",
   "metadata": {},
   "outputs": [
    {
     "name": "stdout",
     "output_type": "stream",
     "text": [
      "      class\n",
      "2020       \n",
      "0     60000\n",
      "1     16000\n"
     ]
    }
   ],
   "source": [
    "count_2020 = data[['2020', 'class']].groupby('2020').count()\n",
    "print(count_2020)"
   ]
  },
  {
   "cell_type": "code",
   "execution_count": 64,
   "id": "6648184b",
   "metadata": {},
   "outputs": [
    {
     "data": {
      "text/plain": [
       "ad_000    268.903325\n",
       "df_000    232.780332\n",
       "dh_000    225.650999\n",
       "au_000    192.449092\n",
       "az_009    173.613281\n",
       "             ...    \n",
       "ac_000      1.796595\n",
       "2020        1.422263\n",
       "ca_000      0.757620\n",
       "cb_000      0.689261\n",
       "cd_000      0.000000\n",
       "Length: 123, dtype: float64"
      ]
     },
     "execution_count": 64,
     "metadata": {},
     "output_type": "execute_result"
    }
   ],
   "source": [
    "prepared_data.skew().sort_values(ascending=False)"
   ]
  },
  {
   "cell_type": "code",
   "execution_count": 65,
   "id": "3250b37d",
   "metadata": {},
   "outputs": [
    {
     "data": {
      "text/plain": [
       "dl_000    19.835834\n",
       "dj_000    19.347894\n",
       "dk_000    14.870331\n",
       "ef_000    11.566660\n",
       "dz_000    10.520930\n",
       "            ...    \n",
       "cb_000    -0.570911\n",
       "az_003    -0.572282\n",
       "ba_007    -0.646700\n",
       "ag_007    -0.648258\n",
       "eb_000    -0.661495\n",
       "Length: 118, dtype: float64"
      ]
     },
     "execution_count": 65,
     "metadata": {},
     "output_type": "execute_result"
    }
   ],
   "source": [
    "transformed_data.skew().sort_values(ascending=False)"
   ]
  },
  {
   "cell_type": "code",
   "execution_count": 74,
   "id": "3930b5c6",
   "metadata": {},
   "outputs": [],
   "source": [
    "pairplot_dataset = transformed_data[['aa_000', 'ac_000', 'ad_000', 'ae_000', 'ag_004', 'ag_006', 'ag_009', 'ay_005', 'ba_000', 'cb_000', 'cv_000', 'class']].reset_index()"
   ]
  },
  {
   "cell_type": "code",
   "execution_count": 75,
   "id": "2134deff",
   "metadata": {
    "scrolled": true
   },
   "outputs": [
    {
     "data": {
      "text/plain": [
       "<seaborn.axisgrid.PairGrid at 0x7fb5117a26d0>"
      ]
     },
     "execution_count": 75,
     "metadata": {},
     "output_type": "execute_result"
    }
   ],
   "source": [
    "g = sns.PairGrid(pairplot_dataset, hue=\"class\")\n",
    "g.map_diag(sns.histplot)\n",
    "g.map_offdiag(sns.scatterplot)\n",
    "g.add_legend()"
   ]
  },
  {
   "cell_type": "markdown",
   "id": "87c4619f",
   "metadata": {},
   "source": [
    "## Pd profile raw data"
   ]
  },
  {
   "cell_type": "code",
   "execution_count": 13,
   "id": "1a67807d",
   "metadata": {},
   "outputs": [],
   "source": [
    "this_folder = os.getcwd()\n",
    "html_folder = '/pandas_profiling_html/'\n",
    "raw_data_profiling = 'raw_data_profiling.html'"
   ]
  },
  {
   "cell_type": "code",
   "execution_count": 14,
   "id": "102ca0c1",
   "metadata": {
    "scrolled": true
   },
   "outputs": [
    {
     "data": {
      "application/vnd.jupyter.widget-view+json": {
       "model_id": "97abcab533744526af901307df61f79f",
       "version_major": 2,
       "version_minor": 0
      },
      "text/plain": [
       "Summarize dataset:   0%|          | 0/5 [00:00<?, ?it/s]"
      ]
     },
     "metadata": {},
     "output_type": "display_data"
    },
    {
     "data": {
      "application/vnd.jupyter.widget-view+json": {
       "model_id": "c61a6b9448ca417c8376711ece64da24",
       "version_major": 2,
       "version_minor": 0
      },
      "text/plain": [
       "Generate report structure:   0%|          | 0/1 [00:00<?, ?it/s]"
      ]
     },
     "metadata": {},
     "output_type": "display_data"
    },
    {
     "data": {
      "application/vnd.jupyter.widget-view+json": {
       "model_id": "93b00d368ee94b1ba0de5d1e3b6c6b15",
       "version_major": 2,
       "version_minor": 0
      },
      "text/plain": [
       "Render HTML:   0%|          | 0/1 [00:00<?, ?it/s]"
      ]
     },
     "metadata": {},
     "output_type": "display_data"
    },
    {
     "data": {
      "application/vnd.jupyter.widget-view+json": {
       "model_id": "c6460f6b29004fa3b0baaebec95cc360",
       "version_major": 2,
       "version_minor": 0
      },
      "text/plain": [
       "Export report to file:   0%|          | 0/1 [00:00<?, ?it/s]"
      ]
     },
     "metadata": {},
     "output_type": "display_data"
    }
   ],
   "source": [
    "profile = ProfileReport(data, minimal = True, explorative = True)\n",
    "profile.to_file(this_folder + html_folder + raw_data_profiling)"
   ]
  },
  {
   "cell_type": "markdown",
   "id": "995c5f73",
   "metadata": {},
   "source": [
    "## Pd profile prepared data"
   ]
  },
  {
   "cell_type": "code",
   "execution_count": 16,
   "id": "023d3e28",
   "metadata": {},
   "outputs": [
    {
     "name": "stdout",
     "output_type": "stream",
     "text": [
      "2022-04-17 17:55:53,320 - kedro.io.data_catalog - INFO - Loading data from `maintenance_prepared_data` (CSVDataSet)...\n"
     ]
    }
   ],
   "source": [
    "prepared_data = catalog.load('maintenance_prepared_data')"
   ]
  },
  {
   "cell_type": "code",
   "execution_count": 17,
   "id": "b16d4de0",
   "metadata": {},
   "outputs": [
    {
     "data": {
      "text/html": [
       "<div>\n",
       "<style scoped>\n",
       "    .dataframe tbody tr th:only-of-type {\n",
       "        vertical-align: middle;\n",
       "    }\n",
       "\n",
       "    .dataframe tbody tr th {\n",
       "        vertical-align: top;\n",
       "    }\n",
       "\n",
       "    .dataframe thead th {\n",
       "        text-align: right;\n",
       "    }\n",
       "</style>\n",
       "<table border=\"1\" class=\"dataframe\">\n",
       "  <thead>\n",
       "    <tr style=\"text-align: right;\">\n",
       "      <th></th>\n",
       "      <th>class</th>\n",
       "      <th>aa_000</th>\n",
       "      <th>ac_000</th>\n",
       "      <th>ad_000</th>\n",
       "      <th>ae_000</th>\n",
       "      <th>af_000</th>\n",
       "      <th>ag_000</th>\n",
       "      <th>ag_001</th>\n",
       "      <th>ag_002</th>\n",
       "      <th>ag_003</th>\n",
       "      <th>...</th>\n",
       "      <th>ec_00</th>\n",
       "      <th>ee_001</th>\n",
       "      <th>ee_005</th>\n",
       "      <th>ee_006</th>\n",
       "      <th>ee_007</th>\n",
       "      <th>ee_008</th>\n",
       "      <th>ee_009</th>\n",
       "      <th>ef_000</th>\n",
       "      <th>eg_000</th>\n",
       "      <th>2020</th>\n",
       "    </tr>\n",
       "  </thead>\n",
       "  <tbody>\n",
       "    <tr>\n",
       "      <th>0</th>\n",
       "      <td>0</td>\n",
       "      <td>76698</td>\n",
       "      <td>2.130706e+09</td>\n",
       "      <td>280.0</td>\n",
       "      <td>0.0</td>\n",
       "      <td>0.0</td>\n",
       "      <td>0.0</td>\n",
       "      <td>0.0</td>\n",
       "      <td>0.0</td>\n",
       "      <td>0.0</td>\n",
       "      <td>...</td>\n",
       "      <td>2445.80</td>\n",
       "      <td>1706908.0</td>\n",
       "      <td>469792.0</td>\n",
       "      <td>339156.0</td>\n",
       "      <td>157956.0</td>\n",
       "      <td>73224.0</td>\n",
       "      <td>0.0</td>\n",
       "      <td>0.0</td>\n",
       "      <td>0.0</td>\n",
       "      <td>0</td>\n",
       "    </tr>\n",
       "    <tr>\n",
       "      <th>1</th>\n",
       "      <td>0</td>\n",
       "      <td>33058</td>\n",
       "      <td>0.000000e+00</td>\n",
       "      <td>128.0</td>\n",
       "      <td>0.0</td>\n",
       "      <td>0.0</td>\n",
       "      <td>0.0</td>\n",
       "      <td>0.0</td>\n",
       "      <td>0.0</td>\n",
       "      <td>0.0</td>\n",
       "      <td>...</td>\n",
       "      <td>2211.76</td>\n",
       "      <td>824154.0</td>\n",
       "      <td>245416.0</td>\n",
       "      <td>133654.0</td>\n",
       "      <td>81140.0</td>\n",
       "      <td>97576.0</td>\n",
       "      <td>1500.0</td>\n",
       "      <td>0.0</td>\n",
       "      <td>0.0</td>\n",
       "      <td>0</td>\n",
       "    </tr>\n",
       "    <tr>\n",
       "      <th>2</th>\n",
       "      <td>0</td>\n",
       "      <td>41040</td>\n",
       "      <td>2.280000e+02</td>\n",
       "      <td>100.0</td>\n",
       "      <td>0.0</td>\n",
       "      <td>0.0</td>\n",
       "      <td>0.0</td>\n",
       "      <td>0.0</td>\n",
       "      <td>0.0</td>\n",
       "      <td>0.0</td>\n",
       "      <td>...</td>\n",
       "      <td>1018.64</td>\n",
       "      <td>453378.0</td>\n",
       "      <td>409564.0</td>\n",
       "      <td>320746.0</td>\n",
       "      <td>158022.0</td>\n",
       "      <td>95128.0</td>\n",
       "      <td>514.0</td>\n",
       "      <td>0.0</td>\n",
       "      <td>0.0</td>\n",
       "      <td>0</td>\n",
       "    </tr>\n",
       "    <tr>\n",
       "      <th>3</th>\n",
       "      <td>0</td>\n",
       "      <td>12</td>\n",
       "      <td>7.000000e+01</td>\n",
       "      <td>66.0</td>\n",
       "      <td>0.0</td>\n",
       "      <td>10.0</td>\n",
       "      <td>0.0</td>\n",
       "      <td>0.0</td>\n",
       "      <td>0.0</td>\n",
       "      <td>318.0</td>\n",
       "      <td>...</td>\n",
       "      <td>1.08</td>\n",
       "      <td>1566.0</td>\n",
       "      <td>44.0</td>\n",
       "      <td>10.0</td>\n",
       "      <td>0.0</td>\n",
       "      <td>0.0</td>\n",
       "      <td>0.0</td>\n",
       "      <td>4.0</td>\n",
       "      <td>32.0</td>\n",
       "      <td>0</td>\n",
       "    </tr>\n",
       "    <tr>\n",
       "      <th>4</th>\n",
       "      <td>0</td>\n",
       "      <td>60874</td>\n",
       "      <td>1.368000e+03</td>\n",
       "      <td>458.0</td>\n",
       "      <td>0.0</td>\n",
       "      <td>0.0</td>\n",
       "      <td>0.0</td>\n",
       "      <td>0.0</td>\n",
       "      <td>0.0</td>\n",
       "      <td>0.0</td>\n",
       "      <td>...</td>\n",
       "      <td>1116.06</td>\n",
       "      <td>904230.0</td>\n",
       "      <td>347188.0</td>\n",
       "      <td>286954.0</td>\n",
       "      <td>311560.0</td>\n",
       "      <td>433954.0</td>\n",
       "      <td>1218.0</td>\n",
       "      <td>0.0</td>\n",
       "      <td>0.0</td>\n",
       "      <td>0</td>\n",
       "    </tr>\n",
       "    <tr>\n",
       "      <th>5</th>\n",
       "      <td>0</td>\n",
       "      <td>38312</td>\n",
       "      <td>2.130706e+09</td>\n",
       "      <td>218.0</td>\n",
       "      <td>0.0</td>\n",
       "      <td>0.0</td>\n",
       "      <td>0.0</td>\n",
       "      <td>0.0</td>\n",
       "      <td>0.0</td>\n",
       "      <td>0.0</td>\n",
       "      <td>...</td>\n",
       "      <td>1013.14</td>\n",
       "      <td>481542.0</td>\n",
       "      <td>300412.0</td>\n",
       "      <td>1534.0</td>\n",
       "      <td>338.0</td>\n",
       "      <td>856.0</td>\n",
       "      <td>0.0</td>\n",
       "      <td>0.0</td>\n",
       "      <td>0.0</td>\n",
       "      <td>0</td>\n",
       "    </tr>\n",
       "    <tr>\n",
       "      <th>6</th>\n",
       "      <td>0</td>\n",
       "      <td>14</td>\n",
       "      <td>6.000000e+00</td>\n",
       "      <td>128.0</td>\n",
       "      <td>0.0</td>\n",
       "      <td>0.0</td>\n",
       "      <td>0.0</td>\n",
       "      <td>0.0</td>\n",
       "      <td>0.0</td>\n",
       "      <td>0.0</td>\n",
       "      <td>...</td>\n",
       "      <td>374.44</td>\n",
       "      <td>1562.0</td>\n",
       "      <td>28.0</td>\n",
       "      <td>0.0</td>\n",
       "      <td>0.0</td>\n",
       "      <td>0.0</td>\n",
       "      <td>0.0</td>\n",
       "      <td>0.0</td>\n",
       "      <td>0.0</td>\n",
       "      <td>0</td>\n",
       "    </tr>\n",
       "    <tr>\n",
       "      <th>7</th>\n",
       "      <td>0</td>\n",
       "      <td>102960</td>\n",
       "      <td>2.130706e+09</td>\n",
       "      <td>116.0</td>\n",
       "      <td>0.0</td>\n",
       "      <td>0.0</td>\n",
       "      <td>0.0</td>\n",
       "      <td>0.0</td>\n",
       "      <td>0.0</td>\n",
       "      <td>0.0</td>\n",
       "      <td>...</td>\n",
       "      <td>2018.08</td>\n",
       "      <td>907360.0</td>\n",
       "      <td>1052166.0</td>\n",
       "      <td>1108672.0</td>\n",
       "      <td>341532.0</td>\n",
       "      <td>129504.0</td>\n",
       "      <td>7832.0</td>\n",
       "      <td>0.0</td>\n",
       "      <td>0.0</td>\n",
       "      <td>0</td>\n",
       "    </tr>\n",
       "    <tr>\n",
       "      <th>8</th>\n",
       "      <td>0</td>\n",
       "      <td>78696</td>\n",
       "      <td>0.000000e+00</td>\n",
       "      <td>128.0</td>\n",
       "      <td>0.0</td>\n",
       "      <td>0.0</td>\n",
       "      <td>0.0</td>\n",
       "      <td>0.0</td>\n",
       "      <td>0.0</td>\n",
       "      <td>0.0</td>\n",
       "      <td>...</td>\n",
       "      <td>2668.64</td>\n",
       "      <td>1759758.0</td>\n",
       "      <td>1012704.0</td>\n",
       "      <td>160090.0</td>\n",
       "      <td>63216.0</td>\n",
       "      <td>41202.0</td>\n",
       "      <td>4.0</td>\n",
       "      <td>0.0</td>\n",
       "      <td>0.0</td>\n",
       "      <td>0</td>\n",
       "    </tr>\n",
       "    <tr>\n",
       "      <th>9</th>\n",
       "      <td>1</td>\n",
       "      <td>153204</td>\n",
       "      <td>1.820000e+02</td>\n",
       "      <td>128.0</td>\n",
       "      <td>0.0</td>\n",
       "      <td>0.0</td>\n",
       "      <td>0.0</td>\n",
       "      <td>0.0</td>\n",
       "      <td>0.0</td>\n",
       "      <td>11804.0</td>\n",
       "      <td>...</td>\n",
       "      <td>1.90</td>\n",
       "      <td>293880.0</td>\n",
       "      <td>22472.0</td>\n",
       "      <td>34362.0</td>\n",
       "      <td>0.0</td>\n",
       "      <td>0.0</td>\n",
       "      <td>0.0</td>\n",
       "      <td>0.0</td>\n",
       "      <td>0.0</td>\n",
       "      <td>0</td>\n",
       "    </tr>\n",
       "  </tbody>\n",
       "</table>\n",
       "<p>10 rows × 123 columns</p>\n",
       "</div>"
      ],
      "text/plain": [
       "   class  aa_000        ac_000  ad_000  ae_000  af_000  ag_000  ag_001  \\\n",
       "0      0   76698  2.130706e+09   280.0     0.0     0.0     0.0     0.0   \n",
       "1      0   33058  0.000000e+00   128.0     0.0     0.0     0.0     0.0   \n",
       "2      0   41040  2.280000e+02   100.0     0.0     0.0     0.0     0.0   \n",
       "3      0      12  7.000000e+01    66.0     0.0    10.0     0.0     0.0   \n",
       "4      0   60874  1.368000e+03   458.0     0.0     0.0     0.0     0.0   \n",
       "5      0   38312  2.130706e+09   218.0     0.0     0.0     0.0     0.0   \n",
       "6      0      14  6.000000e+00   128.0     0.0     0.0     0.0     0.0   \n",
       "7      0  102960  2.130706e+09   116.0     0.0     0.0     0.0     0.0   \n",
       "8      0   78696  0.000000e+00   128.0     0.0     0.0     0.0     0.0   \n",
       "9      1  153204  1.820000e+02   128.0     0.0     0.0     0.0     0.0   \n",
       "\n",
       "   ag_002   ag_003  ...    ec_00     ee_001     ee_005     ee_006    ee_007  \\\n",
       "0     0.0      0.0  ...  2445.80  1706908.0   469792.0   339156.0  157956.0   \n",
       "1     0.0      0.0  ...  2211.76   824154.0   245416.0   133654.0   81140.0   \n",
       "2     0.0      0.0  ...  1018.64   453378.0   409564.0   320746.0  158022.0   \n",
       "3     0.0    318.0  ...     1.08     1566.0       44.0       10.0       0.0   \n",
       "4     0.0      0.0  ...  1116.06   904230.0   347188.0   286954.0  311560.0   \n",
       "5     0.0      0.0  ...  1013.14   481542.0   300412.0     1534.0     338.0   \n",
       "6     0.0      0.0  ...   374.44     1562.0       28.0        0.0       0.0   \n",
       "7     0.0      0.0  ...  2018.08   907360.0  1052166.0  1108672.0  341532.0   \n",
       "8     0.0      0.0  ...  2668.64  1759758.0  1012704.0   160090.0   63216.0   \n",
       "9     0.0  11804.0  ...     1.90   293880.0    22472.0    34362.0       0.0   \n",
       "\n",
       "     ee_008  ee_009  ef_000  eg_000  2020  \n",
       "0   73224.0     0.0     0.0     0.0     0  \n",
       "1   97576.0  1500.0     0.0     0.0     0  \n",
       "2   95128.0   514.0     0.0     0.0     0  \n",
       "3       0.0     0.0     4.0    32.0     0  \n",
       "4  433954.0  1218.0     0.0     0.0     0  \n",
       "5     856.0     0.0     0.0     0.0     0  \n",
       "6       0.0     0.0     0.0     0.0     0  \n",
       "7  129504.0  7832.0     0.0     0.0     0  \n",
       "8   41202.0     4.0     0.0     0.0     0  \n",
       "9       0.0     0.0     0.0     0.0     0  \n",
       "\n",
       "[10 rows x 123 columns]"
      ]
     },
     "execution_count": 17,
     "metadata": {},
     "output_type": "execute_result"
    }
   ],
   "source": [
    "prepared_data.head(10)"
   ]
  },
  {
   "cell_type": "code",
   "execution_count": 18,
   "id": "c7fbfa63",
   "metadata": {},
   "outputs": [],
   "source": [
    "this_folder = os.getcwd()\n",
    "html_folder = '/pandas_profiling_html/'\n",
    "raw_data_profiling = 'clean_data_profiling.html'"
   ]
  },
  {
   "cell_type": "code",
   "execution_count": 19,
   "id": "9a3039d8",
   "metadata": {},
   "outputs": [
    {
     "data": {
      "application/vnd.jupyter.widget-view+json": {
       "model_id": "d772f1a3a97d4c2bbdbd035234055c00",
       "version_major": 2,
       "version_minor": 0
      },
      "text/plain": [
       "Summarize dataset:   0%|          | 0/5 [00:00<?, ?it/s]"
      ]
     },
     "metadata": {},
     "output_type": "display_data"
    },
    {
     "data": {
      "application/vnd.jupyter.widget-view+json": {
       "model_id": "876bc1207bc0473a9ff301dde2a5fcc9",
       "version_major": 2,
       "version_minor": 0
      },
      "text/plain": [
       "Generate report structure:   0%|          | 0/1 [00:00<?, ?it/s]"
      ]
     },
     "metadata": {},
     "output_type": "display_data"
    },
    {
     "data": {
      "application/vnd.jupyter.widget-view+json": {
       "model_id": "ea2146b4f1b741ed8b90491489077239",
       "version_major": 2,
       "version_minor": 0
      },
      "text/plain": [
       "Render HTML:   0%|          | 0/1 [00:00<?, ?it/s]"
      ]
     },
     "metadata": {},
     "output_type": "display_data"
    },
    {
     "data": {
      "application/vnd.jupyter.widget-view+json": {
       "model_id": "75dfb95ac584459cbd96b573783ae78a",
       "version_major": 2,
       "version_minor": 0
      },
      "text/plain": [
       "Export report to file:   0%|          | 0/1 [00:00<?, ?it/s]"
      ]
     },
     "metadata": {},
     "output_type": "display_data"
    }
   ],
   "source": [
    "profile = ProfileReport(prepared_data, minimal = True, explorative = True)\n",
    "profile.to_file(this_folder + html_folder + raw_data_profiling)"
   ]
  },
  {
   "cell_type": "markdown",
   "id": "5358d7f5",
   "metadata": {},
   "source": [
    "## Pd profile transformed data"
   ]
  },
  {
   "cell_type": "code",
   "execution_count": 23,
   "id": "891f8c4f",
   "metadata": {},
   "outputs": [
    {
     "name": "stdout",
     "output_type": "stream",
     "text": [
      "2022-04-17 18:00:16,997 - kedro.io.data_catalog - INFO - Loading data from `x_train` (CSVDataSet)...\n",
      "2022-04-17 18:00:18,903 - kedro.io.data_catalog - INFO - Loading data from `x_test` (CSVDataSet)...\n",
      "2022-04-17 18:00:19,145 - kedro.io.data_catalog - INFO - Loading data from `y_train` (CSVDataSet)...\n",
      "2022-04-17 18:00:19,152 - kedro.io.data_catalog - INFO - Loading data from `y_test` (CSVDataSet)...\n"
     ]
    }
   ],
   "source": [
    "x_train = catalog.load('x_train')\n",
    "x_test = catalog.load('x_test')\n",
    "y_train = catalog.load('y_train')\n",
    "y_test = catalog.load('y_test')\n",
    "\n",
    "transformed_data = pd.concat([x_train, y_train], axis=1)\n",
    "transformed_data_test = pd.concat([x_test, y_test], axis=1)\n",
    "transformed_data = pd.concat([transformed_data, transformed_data_test])\n"
   ]
  },
  {
   "cell_type": "code",
   "execution_count": 24,
   "id": "607ccebb",
   "metadata": {},
   "outputs": [
    {
     "data": {
      "text/plain": [
       "(127958, 118)"
      ]
     },
     "execution_count": 24,
     "metadata": {},
     "output_type": "execute_result"
    }
   ],
   "source": [
    "transformed_data.shape"
   ]
  },
  {
   "cell_type": "code",
   "execution_count": 25,
   "id": "5b4b5eaf",
   "metadata": {},
   "outputs": [
    {
     "data": {
      "text/html": [
       "<div>\n",
       "<style scoped>\n",
       "    .dataframe tbody tr th:only-of-type {\n",
       "        vertical-align: middle;\n",
       "    }\n",
       "\n",
       "    .dataframe tbody tr th {\n",
       "        vertical-align: top;\n",
       "    }\n",
       "\n",
       "    .dataframe thead th {\n",
       "        text-align: right;\n",
       "    }\n",
       "</style>\n",
       "<table border=\"1\" class=\"dataframe\">\n",
       "  <thead>\n",
       "    <tr style=\"text-align: right;\">\n",
       "      <th></th>\n",
       "      <th>aa_000</th>\n",
       "      <th>ac_000</th>\n",
       "      <th>ad_000</th>\n",
       "      <th>ae_000</th>\n",
       "      <th>af_000</th>\n",
       "      <th>ag_000</th>\n",
       "      <th>ag_001</th>\n",
       "      <th>ag_002</th>\n",
       "      <th>ag_003</th>\n",
       "      <th>ag_004</th>\n",
       "      <th>...</th>\n",
       "      <th>ec_00</th>\n",
       "      <th>ee_001</th>\n",
       "      <th>ee_005</th>\n",
       "      <th>ee_006</th>\n",
       "      <th>ee_007</th>\n",
       "      <th>ee_008</th>\n",
       "      <th>ee_009</th>\n",
       "      <th>ef_000</th>\n",
       "      <th>eg_000</th>\n",
       "      <th>class</th>\n",
       "    </tr>\n",
       "  </thead>\n",
       "  <tbody>\n",
       "    <tr>\n",
       "      <th>0</th>\n",
       "      <td>0.911657</td>\n",
       "      <td>1.748367</td>\n",
       "      <td>0.534254</td>\n",
       "      <td>-0.185616</td>\n",
       "      <td>-0.188972</td>\n",
       "      <td>-0.053172</td>\n",
       "      <td>-0.102086</td>\n",
       "      <td>-0.216194</td>\n",
       "      <td>-0.495527</td>\n",
       "      <td>0.681648</td>\n",
       "      <td>...</td>\n",
       "      <td>1.114363</td>\n",
       "      <td>1.261081</td>\n",
       "      <td>0.831545</td>\n",
       "      <td>0.880596</td>\n",
       "      <td>0.759216</td>\n",
       "      <td>0.827136</td>\n",
       "      <td>-0.874992</td>\n",
       "      <td>-0.066841</td>\n",
       "      <td>-0.091583</td>\n",
       "      <td>0</td>\n",
       "    </tr>\n",
       "    <tr>\n",
       "      <th>1</th>\n",
       "      <td>0.493409</td>\n",
       "      <td>-1.561502</td>\n",
       "      <td>0.054147</td>\n",
       "      <td>-0.185616</td>\n",
       "      <td>-0.188972</td>\n",
       "      <td>-0.053172</td>\n",
       "      <td>-0.102086</td>\n",
       "      <td>-0.216194</td>\n",
       "      <td>-0.495527</td>\n",
       "      <td>0.470946</td>\n",
       "      <td>...</td>\n",
       "      <td>1.027053</td>\n",
       "      <td>0.857974</td>\n",
       "      <td>0.521743</td>\n",
       "      <td>0.533758</td>\n",
       "      <td>0.541427</td>\n",
       "      <td>0.892366</td>\n",
       "      <td>1.097345</td>\n",
       "      <td>-0.066841</td>\n",
       "      <td>-0.091583</td>\n",
       "      <td>0</td>\n",
       "    </tr>\n",
       "    <tr>\n",
       "      <th>2</th>\n",
       "      <td>0.595649</td>\n",
       "      <td>0.089724</td>\n",
       "      <td>-0.091026</td>\n",
       "      <td>-0.185616</td>\n",
       "      <td>-0.188972</td>\n",
       "      <td>-0.053172</td>\n",
       "      <td>-0.102086</td>\n",
       "      <td>-0.216194</td>\n",
       "      <td>-0.495527</td>\n",
       "      <td>-0.238249</td>\n",
       "      <td>...</td>\n",
       "      <td>0.416734</td>\n",
       "      <td>0.556585</td>\n",
       "      <td>0.763126</td>\n",
       "      <td>0.858693</td>\n",
       "      <td>0.759357</td>\n",
       "      <td>0.886566</td>\n",
       "      <td>0.926847</td>\n",
       "      <td>-0.066841</td>\n",
       "      <td>-0.091583</td>\n",
       "      <td>0</td>\n",
       "    </tr>\n",
       "    <tr>\n",
       "      <th>3</th>\n",
       "      <td>-1.597142</td>\n",
       "      <td>-0.187150</td>\n",
       "      <td>-0.328602</td>\n",
       "      <td>-0.185616</td>\n",
       "      <td>5.291967</td>\n",
       "      <td>-0.053172</td>\n",
       "      <td>-0.102086</td>\n",
       "      <td>-0.216194</td>\n",
       "      <td>1.942282</td>\n",
       "      <td>-0.151562</td>\n",
       "      <td>...</td>\n",
       "      <td>-1.988121</td>\n",
       "      <td>-1.331738</td>\n",
       "      <td>-1.482881</td>\n",
       "      <td>-1.445307</td>\n",
       "      <td>-1.569238</td>\n",
       "      <td>-1.254589</td>\n",
       "      <td>-0.874992</td>\n",
       "      <td>14.960973</td>\n",
       "      <td>10.919032</td>\n",
       "      <td>0</td>\n",
       "    </tr>\n",
       "    <tr>\n",
       "      <th>4</th>\n",
       "      <td>0.791240</td>\n",
       "      <td>0.448803</td>\n",
       "      <td>0.851640</td>\n",
       "      <td>-0.185616</td>\n",
       "      <td>-0.188972</td>\n",
       "      <td>-0.053172</td>\n",
       "      <td>-0.102086</td>\n",
       "      <td>-0.216194</td>\n",
       "      <td>-0.495527</td>\n",
       "      <td>0.729195</td>\n",
       "      <td>...</td>\n",
       "      <td>0.483195</td>\n",
       "      <td>0.907048</td>\n",
       "      <td>0.682877</td>\n",
       "      <td>0.815440</td>\n",
       "      <td>0.997215</td>\n",
       "      <td>1.242544</td>\n",
       "      <td>1.066318</td>\n",
       "      <td>-0.066841</td>\n",
       "      <td>-0.091583</td>\n",
       "      <td>0</td>\n",
       "    </tr>\n",
       "    <tr>\n",
       "      <th>5</th>\n",
       "      <td>0.562755</td>\n",
       "      <td>1.748367</td>\n",
       "      <td>0.377453</td>\n",
       "      <td>-0.185616</td>\n",
       "      <td>-0.188972</td>\n",
       "      <td>-0.053172</td>\n",
       "      <td>-0.102086</td>\n",
       "      <td>-0.216194</td>\n",
       "      <td>-0.495527</td>\n",
       "      <td>0.266367</td>\n",
       "      <td>...</td>\n",
       "      <td>0.412838</td>\n",
       "      <td>0.585842</td>\n",
       "      <td>0.614472</td>\n",
       "      <td>-0.681475</td>\n",
       "      <td>-0.781345</td>\n",
       "      <td>-0.101494</td>\n",
       "      <td>-0.874992</td>\n",
       "      <td>-0.066841</td>\n",
       "      <td>-0.091583</td>\n",
       "      <td>0</td>\n",
       "    </tr>\n",
       "    <tr>\n",
       "      <th>6</th>\n",
       "      <td>-1.577624</td>\n",
       "      <td>-0.853265</td>\n",
       "      <td>0.054147</td>\n",
       "      <td>-0.185616</td>\n",
       "      <td>-0.188972</td>\n",
       "      <td>-0.053172</td>\n",
       "      <td>-0.102086</td>\n",
       "      <td>-0.216194</td>\n",
       "      <td>-0.495527</td>\n",
       "      <td>-0.331147</td>\n",
       "      <td>...</td>\n",
       "      <td>-0.228048</td>\n",
       "      <td>-1.332294</td>\n",
       "      <td>-1.525226</td>\n",
       "      <td>-1.680886</td>\n",
       "      <td>-1.569238</td>\n",
       "      <td>-1.254589</td>\n",
       "      <td>-0.874992</td>\n",
       "      <td>-0.066841</td>\n",
       "      <td>-0.091583</td>\n",
       "      <td>0</td>\n",
       "    </tr>\n",
       "    <tr>\n",
       "      <th>7</th>\n",
       "      <td>1.071614</td>\n",
       "      <td>1.748367</td>\n",
       "      <td>-0.004102</td>\n",
       "      <td>-0.185616</td>\n",
       "      <td>-0.188972</td>\n",
       "      <td>-0.053172</td>\n",
       "      <td>-0.102086</td>\n",
       "      <td>-0.216194</td>\n",
       "      <td>-0.495527</td>\n",
       "      <td>-0.162689</td>\n",
       "      <td>...</td>\n",
       "      <td>0.949214</td>\n",
       "      <td>0.908889</td>\n",
       "      <td>1.268565</td>\n",
       "      <td>1.381986</td>\n",
       "      <td>1.030692</td>\n",
       "      <td>0.957348</td>\n",
       "      <td>1.311691</td>\n",
       "      <td>-0.066841</td>\n",
       "      <td>-0.091583</td>\n",
       "      <td>0</td>\n",
       "    </tr>\n",
       "    <tr>\n",
       "      <th>8</th>\n",
       "      <td>0.925333</td>\n",
       "      <td>-1.561502</td>\n",
       "      <td>0.054147</td>\n",
       "      <td>-0.185616</td>\n",
       "      <td>-0.188972</td>\n",
       "      <td>-0.053172</td>\n",
       "      <td>-0.102086</td>\n",
       "      <td>-0.216194</td>\n",
       "      <td>-0.495527</td>\n",
       "      <td>-0.614815</td>\n",
       "      <td>...</td>\n",
       "      <td>1.191677</td>\n",
       "      <td>1.278881</td>\n",
       "      <td>1.246426</td>\n",
       "      <td>0.597971</td>\n",
       "      <td>0.463585</td>\n",
       "      <td>0.698509</td>\n",
       "      <td>-0.236577</td>\n",
       "      <td>-0.066841</td>\n",
       "      <td>-0.091583</td>\n",
       "      <td>0</td>\n",
       "    </tr>\n",
       "    <tr>\n",
       "      <th>9</th>\n",
       "      <td>1.299632</td>\n",
       "      <td>0.039455</td>\n",
       "      <td>0.054147</td>\n",
       "      <td>-0.185616</td>\n",
       "      <td>-0.188972</td>\n",
       "      <td>-0.053172</td>\n",
       "      <td>-0.102086</td>\n",
       "      <td>-0.216194</td>\n",
       "      <td>2.054556</td>\n",
       "      <td>1.543084</td>\n",
       "      <td>...</td>\n",
       "      <td>-1.926657</td>\n",
       "      <td>0.353261</td>\n",
       "      <td>-0.358620</td>\n",
       "      <td>0.092853</td>\n",
       "      <td>-1.569238</td>\n",
       "      <td>-1.254589</td>\n",
       "      <td>-0.874992</td>\n",
       "      <td>-0.066841</td>\n",
       "      <td>-0.091583</td>\n",
       "      <td>1</td>\n",
       "    </tr>\n",
       "  </tbody>\n",
       "</table>\n",
       "<p>10 rows × 118 columns</p>\n",
       "</div>"
      ],
      "text/plain": [
       "     aa_000    ac_000    ad_000    ae_000    af_000    ag_000    ag_001  \\\n",
       "0  0.911657  1.748367  0.534254 -0.185616 -0.188972 -0.053172 -0.102086   \n",
       "1  0.493409 -1.561502  0.054147 -0.185616 -0.188972 -0.053172 -0.102086   \n",
       "2  0.595649  0.089724 -0.091026 -0.185616 -0.188972 -0.053172 -0.102086   \n",
       "3 -1.597142 -0.187150 -0.328602 -0.185616  5.291967 -0.053172 -0.102086   \n",
       "4  0.791240  0.448803  0.851640 -0.185616 -0.188972 -0.053172 -0.102086   \n",
       "5  0.562755  1.748367  0.377453 -0.185616 -0.188972 -0.053172 -0.102086   \n",
       "6 -1.577624 -0.853265  0.054147 -0.185616 -0.188972 -0.053172 -0.102086   \n",
       "7  1.071614  1.748367 -0.004102 -0.185616 -0.188972 -0.053172 -0.102086   \n",
       "8  0.925333 -1.561502  0.054147 -0.185616 -0.188972 -0.053172 -0.102086   \n",
       "9  1.299632  0.039455  0.054147 -0.185616 -0.188972 -0.053172 -0.102086   \n",
       "\n",
       "     ag_002    ag_003    ag_004  ...     ec_00    ee_001    ee_005    ee_006  \\\n",
       "0 -0.216194 -0.495527  0.681648  ...  1.114363  1.261081  0.831545  0.880596   \n",
       "1 -0.216194 -0.495527  0.470946  ...  1.027053  0.857974  0.521743  0.533758   \n",
       "2 -0.216194 -0.495527 -0.238249  ...  0.416734  0.556585  0.763126  0.858693   \n",
       "3 -0.216194  1.942282 -0.151562  ... -1.988121 -1.331738 -1.482881 -1.445307   \n",
       "4 -0.216194 -0.495527  0.729195  ...  0.483195  0.907048  0.682877  0.815440   \n",
       "5 -0.216194 -0.495527  0.266367  ...  0.412838  0.585842  0.614472 -0.681475   \n",
       "6 -0.216194 -0.495527 -0.331147  ... -0.228048 -1.332294 -1.525226 -1.680886   \n",
       "7 -0.216194 -0.495527 -0.162689  ...  0.949214  0.908889  1.268565  1.381986   \n",
       "8 -0.216194 -0.495527 -0.614815  ...  1.191677  1.278881  1.246426  0.597971   \n",
       "9 -0.216194  2.054556  1.543084  ... -1.926657  0.353261 -0.358620  0.092853   \n",
       "\n",
       "     ee_007    ee_008    ee_009     ef_000     eg_000  class  \n",
       "0  0.759216  0.827136 -0.874992  -0.066841  -0.091583      0  \n",
       "1  0.541427  0.892366  1.097345  -0.066841  -0.091583      0  \n",
       "2  0.759357  0.886566  0.926847  -0.066841  -0.091583      0  \n",
       "3 -1.569238 -1.254589 -0.874992  14.960973  10.919032      0  \n",
       "4  0.997215  1.242544  1.066318  -0.066841  -0.091583      0  \n",
       "5 -0.781345 -0.101494 -0.874992  -0.066841  -0.091583      0  \n",
       "6 -1.569238 -1.254589 -0.874992  -0.066841  -0.091583      0  \n",
       "7  1.030692  0.957348  1.311691  -0.066841  -0.091583      0  \n",
       "8  0.463585  0.698509 -0.236577  -0.066841  -0.091583      0  \n",
       "9 -1.569238 -1.254589 -0.874992  -0.066841  -0.091583      1  \n",
       "\n",
       "[10 rows x 118 columns]"
      ]
     },
     "execution_count": 25,
     "metadata": {},
     "output_type": "execute_result"
    }
   ],
   "source": [
    "transformed_data.head(10)"
   ]
  },
  {
   "cell_type": "code",
   "execution_count": 26,
   "id": "4643baf8",
   "metadata": {},
   "outputs": [],
   "source": [
    "this_folder = os.getcwd()\n",
    "html_folder = '/pandas_profiling_html/'\n",
    "raw_data_profiling = 'transformed_data_profiling.html'"
   ]
  },
  {
   "cell_type": "code",
   "execution_count": 57,
   "id": "4c5e767a",
   "metadata": {},
   "outputs": [
    {
     "data": {
      "application/vnd.jupyter.widget-view+json": {
       "model_id": "b09e5a03610843f09b3d0d87af3a9c76",
       "version_major": 2,
       "version_minor": 0
      },
      "text/plain": [
       "Summarize dataset:   0%|          | 0/5 [00:00<?, ?it/s]"
      ]
     },
     "metadata": {},
     "output_type": "display_data"
    },
    {
     "data": {
      "application/vnd.jupyter.widget-view+json": {
       "model_id": "1a0e154d0d254fa882624b2374ba3b75",
       "version_major": 2,
       "version_minor": 0
      },
      "text/plain": [
       "Generate report structure:   0%|          | 0/1 [00:00<?, ?it/s]"
      ]
     },
     "metadata": {},
     "output_type": "display_data"
    },
    {
     "data": {
      "application/vnd.jupyter.widget-view+json": {
       "model_id": "eeb0c66e02f1487cb23395dacdb9502f",
       "version_major": 2,
       "version_minor": 0
      },
      "text/plain": [
       "Render HTML:   0%|          | 0/1 [00:00<?, ?it/s]"
      ]
     },
     "metadata": {},
     "output_type": "display_data"
    },
    {
     "data": {
      "application/vnd.jupyter.widget-view+json": {
       "model_id": "2615e7e27d374670863c47209535e76a",
       "version_major": 2,
       "version_minor": 0
      },
      "text/plain": [
       "Export report to file:   0%|          | 0/1 [00:00<?, ?it/s]"
      ]
     },
     "metadata": {},
     "output_type": "display_data"
    }
   ],
   "source": [
    "profile = ProfileReport(transformed_data, minimal = True, explorative = True)\n",
    "profile.to_file(this_folder + html_folder + raw_data_profiling)"
   ]
  },
  {
   "cell_type": "code",
   "execution_count": null,
   "id": "9e6f68cb",
   "metadata": {},
   "outputs": [],
   "source": []
  }
 ],
 "metadata": {
  "kernelspec": {
   "display_name": "Kedro (defy)",
   "language": "python",
   "name": "kedro_defy"
  },
  "language_info": {
   "codemirror_mode": {
    "name": "ipython",
    "version": 3
   },
   "file_extension": ".py",
   "mimetype": "text/x-python",
   "name": "python",
   "nbconvert_exporter": "python",
   "pygments_lexer": "ipython3",
   "version": "3.8.10"
  }
 },
 "nbformat": 4,
 "nbformat_minor": 5
}
