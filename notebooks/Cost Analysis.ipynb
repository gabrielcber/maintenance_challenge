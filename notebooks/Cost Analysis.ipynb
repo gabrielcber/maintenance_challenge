{
 "cells": [
  {
   "cell_type": "code",
   "execution_count": 23,
   "id": "91d7fabf",
   "metadata": {},
   "outputs": [],
   "source": [
    "import pandas as pd\n",
    "import numpy as np\n",
    "from sklearn.metrics import confusion_matrix, roc_auc_score, accuracy_score, f1_score"
   ]
  },
  {
   "cell_type": "code",
   "execution_count": 1,
   "id": "b27befc6",
   "metadata": {
    "collapsed": true
   },
   "outputs": [
    {
     "name": "stdout",
     "output_type": "stream",
     "text": [
      "2022-04-17 20:37:50,916 - kedro.io.data_catalog - INFO - Loading data from `model` (PickleDataSet)...\n"
     ]
    },
    {
     "name": "stderr",
     "output_type": "stream",
     "text": [
      "/home/lilivah/defy/defy/venv/lib/python3.8/site-packages/sklearn/utils/multiclass.py:14: DeprecationWarning: Please use `spmatrix` from the `scipy.sparse` namespace, the `scipy.sparse.base` namespace is deprecated.\n",
      "  from scipy.sparse.base import spmatrix\n",
      "/home/lilivah/defy/defy/venv/lib/python3.8/site-packages/sklearn/utils/optimize.py:18: DeprecationWarning: Please use `line_search_wolfe2` from the `scipy.optimize` namespace, the `scipy.optimize.linesearch` namespace is deprecated.\n",
      "  from scipy.optimize.linesearch import line_search_wolfe2, line_search_wolfe1\n",
      "/home/lilivah/defy/defy/venv/lib/python3.8/site-packages/sklearn/utils/optimize.py:18: DeprecationWarning: Please use `line_search_wolfe1` from the `scipy.optimize` namespace, the `scipy.optimize.linesearch` namespace is deprecated.\n",
      "  from scipy.optimize.linesearch import line_search_wolfe2, line_search_wolfe1\n"
     ]
    }
   ],
   "source": [
    "model = catalog.load('model')"
   ]
  },
  {
   "cell_type": "code",
   "execution_count": 7,
   "id": "3eb08dbb",
   "metadata": {},
   "outputs": [
    {
     "data": {
      "text/plain": [
       "RidgeClassifier()"
      ]
     },
     "execution_count": 7,
     "metadata": {},
     "output_type": "execute_result"
    }
   ],
   "source": [
    "model"
   ]
  },
  {
   "cell_type": "code",
   "execution_count": 12,
   "id": "8442093d",
   "metadata": {},
   "outputs": [
    {
     "name": "stdout",
     "output_type": "stream",
     "text": [
      "2022-04-17 20:40:47,558 - kedro.io.data_catalog - INFO - Loading data from `x_test` (CSVDataSet)...\n",
      "2022-04-17 20:40:47,860 - kedro.io.data_catalog - INFO - Loading data from `y_test` (CSVDataSet)...\n"
     ]
    }
   ],
   "source": [
    "x_test = catalog.load('x_test')\n",
    "y_test = catalog.load('y_test')"
   ]
  },
  {
   "cell_type": "code",
   "execution_count": 10,
   "id": "8ae48dd1",
   "metadata": {},
   "outputs": [],
   "source": [
    "y_pred = model.predict(x_test)"
   ]
  },
  {
   "cell_type": "code",
   "execution_count": 18,
   "id": "efb23473",
   "metadata": {},
   "outputs": [
    {
     "data": {
      "text/plain": [
       "0.966583344296803"
      ]
     },
     "execution_count": 18,
     "metadata": {},
     "output_type": "execute_result"
    }
   ],
   "source": [
    "from sklearn.metrics import accuracy_score\n",
    "accuracy_score(y_test, y_pred)"
   ]
  },
  {
   "cell_type": "code",
   "execution_count": 13,
   "id": "cd6eda06",
   "metadata": {},
   "outputs": [
    {
     "data": {
      "text/plain": [
       "array([[14443,   492],\n",
       "       [   16,   251]])"
      ]
     },
     "execution_count": 13,
     "metadata": {},
     "output_type": "execute_result"
    }
   ],
   "source": [
    "from sklearn.metrics import confusion_matrix\n",
    "confusion_matrix(y_test, y_pred)"
   ]
  },
  {
   "cell_type": "code",
   "execution_count": 14,
   "id": "acef9f4d",
   "metadata": {},
   "outputs": [],
   "source": [
    "tn, fp, fn, tp = confusion_matrix(y_test, y_pred).ravel()"
   ]
  },
  {
   "cell_type": "code",
   "execution_count": 15,
   "id": "0f576b35",
   "metadata": {},
   "outputs": [
    {
     "name": "stdout",
     "output_type": "stream",
     "text": [
      "12920\n"
     ]
    }
   ],
   "source": [
    "cost = fp*10 + fn*500\n",
    "print(cost)"
   ]
  },
  {
   "cell_type": "markdown",
   "id": "7ecf58e5",
   "metadata": {},
   "source": [
    "#### Cost analysis"
   ]
  },
  {
   "cell_type": "code",
   "execution_count": 21,
   "id": "1d79b684",
   "metadata": {},
   "outputs": [],
   "source": [
    "yearly_cost = {\n",
    "    'year': ['2016', '2017', '2018', '2019', '2020']\n",
    "    , 'cost': ['87000', '113000', '135000', '165000', '187500']\n",
    "}\n",
    "\n",
    "yearly_cost = pd.DataFrame(yearly_cost)"
   ]
  },
  {
   "cell_type": "code",
   "execution_count": 24,
   "id": "939b9f6f",
   "metadata": {},
   "outputs": [],
   "source": [
    "x = yearly_cost['year'].to_numpy().astype('float64')\n",
    "y = yearly_cost['cost'].to_numpy().astype('float64')\n",
    "x_future = np.array(['2021', '2022', '2023', '2024', '2025']).astype('float64')\n",
    "x_all = np.array(['2016', '2017','2018', '2019', '2020', '2021', '2022', '2023', '2024', '2025']).astype('float64')"
   ]
  },
  {
   "cell_type": "code",
   "execution_count": 25,
   "id": "b0819d51",
   "metadata": {},
   "outputs": [],
   "source": [
    "m, b = np.polyfit(x, y, 1)\n",
    "x_future = x + x_future"
   ]
  },
  {
   "cell_type": "code",
   "execution_count": 41,
   "id": "f33d2d00",
   "metadata": {},
   "outputs": [
    {
     "data": {
      "text/plain": [
       "<matplotlib.legend.Legend at 0x7f87aea7ea30>"
      ]
     },
     "execution_count": 41,
     "metadata": {},
     "output_type": "execute_result"
    },
    {
     "data": {
      "image/png": "[encoded data removed]",
      "text/plain": [
       "<Figure size 432x288 with 1 Axes>"
      ]
     },
     "metadata": {
      "needs_background": "light"
     },
     "output_type": "display_data"
    }
   ],
   "source": [
    "import matplotlib.pyplot as plt\n",
    "plt.plot(x, y, 'o', label = 'Tendência')\n",
    "plt.plot(2020, cost, 'o', label = 'RidgeClassifier')\n",
    "plt.plot(2020, 32500, 'o', label = 'RandomForestClassifier')\n",
    "plt.plot(x_all, m*x_all + b, label = 'Custo por ano')\n",
    "plt.legend()"
   ]
  },
  {
   "cell_type": "code",
   "execution_count": null,
   "id": "02eb9bf4",
   "metadata": {},
   "outputs": [],
   "source": []
  },
  {
   "cell_type": "code",
   "execution_count": null,
   "id": "9a88a37b",
   "metadata": {},
   "outputs": [],
   "source": []
  }
 ],
 "metadata": {
  "kernelspec": {
   "display_name": "Kedro (defy)",
   "language": "python",
   "name": "kedro_defy"
  },
  "language_info": {
   "codemirror_mode": {
    "name": "ipython",
    "version": 3
   },
   "file_extension": ".py",
   "mimetype": "text/x-python",
   "name": "python",
   "nbconvert_exporter": "python",
   "pygments_lexer": "ipython3",
   "version": "3.8.10"
  }
 },
 "nbformat": 4,
 "nbformat_minor": 5
}
