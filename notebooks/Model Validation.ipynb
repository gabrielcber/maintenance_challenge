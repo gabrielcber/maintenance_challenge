{
 "cells": [
  {
   "cell_type": "markdown",
   "id": "da865a28",
   "metadata": {},
   "source": [
    "# Ridge Classifier"
   ]
  },
  {
   "cell_type": "markdown",
   "id": "25536d0f",
   "metadata": {},
   "source": [
    "### Loading..."
   ]
  },
  {
   "cell_type": "code",
   "execution_count": 2,
   "id": "f9ad73f2",
   "metadata": {
    "collapsed": true
   },
   "outputs": [
    {
     "name": "stdout",
     "output_type": "stream",
     "text": [
      "2022-04-18 10:46:16,816 - kedro.io.data_catalog - INFO - Loading data from `model` (PickleDataSet)...\n"
     ]
    },
    {
     "name": "stderr",
     "output_type": "stream",
     "text": [
      "/home/lilivah/defy/defy/venv/lib/python3.8/site-packages/sklearn/utils/multiclass.py:14: DeprecationWarning: Please use `spmatrix` from the `scipy.sparse` namespace, the `scipy.sparse.base` namespace is deprecated.\n",
      "  from scipy.sparse.base import spmatrix\n",
      "/home/lilivah/defy/defy/venv/lib/python3.8/site-packages/sklearn/utils/optimize.py:18: DeprecationWarning: Please use `line_search_wolfe2` from the `scipy.optimize` namespace, the `scipy.optimize.linesearch` namespace is deprecated.\n",
      "  from scipy.optimize.linesearch import line_search_wolfe2, line_search_wolfe1\n",
      "/home/lilivah/defy/defy/venv/lib/python3.8/site-packages/sklearn/utils/optimize.py:18: DeprecationWarning: Please use `line_search_wolfe1` from the `scipy.optimize` namespace, the `scipy.optimize.linesearch` namespace is deprecated.\n",
      "  from scipy.optimize.linesearch import line_search_wolfe2, line_search_wolfe1\n"
     ]
    }
   ],
   "source": [
    "model = catalog.load('model')"
   ]
  },
  {
   "cell_type": "code",
   "execution_count": 1,
   "id": "117438c7",
   "metadata": {},
   "outputs": [
    {
     "name": "stdout",
     "output_type": "stream",
     "text": [
      "2022-04-18 10:46:13,965 - kedro.io.data_catalog - INFO - Loading data from `x_train` (CSVDataSet)...\n",
      "2022-04-18 10:46:15,653 - kedro.io.data_catalog - INFO - Loading data from `x_test` (CSVDataSet)...\n",
      "2022-04-18 10:46:15,900 - kedro.io.data_catalog - INFO - Loading data from `y_train` (CSVDataSet)...\n",
      "2022-04-18 10:46:15,906 - kedro.io.data_catalog - INFO - Loading data from `y_test` (CSVDataSet)...\n"
     ]
    }
   ],
   "source": [
    "x_train = catalog.load('x_train')\n",
    "x_test = catalog.load('x_test')\n",
    "y_train = catalog.load('y_train')\n",
    "y_test = catalog.load('y_test')"
   ]
  },
  {
   "cell_type": "code",
   "execution_count": 11,
   "id": "7b27a048",
   "metadata": {},
   "outputs": [],
   "source": [
    "## import eli5\n",
    "# Importing eli5 here is causing issues. You can check the picture at the notebook/imgs/ \n",
    "# folder to get a glance of the show_weights eli5 function, which I could get from \n",
    "# running it on Google Colab framework."
   ]
  },
  {
   "cell_type": "code",
   "execution_count": 13,
   "id": "18d597f6",
   "metadata": {},
   "outputs": [],
   "source": [
    "y_pred = model.predict(x_test)"
   ]
  },
  {
   "cell_type": "code",
   "execution_count": 15,
   "id": "4231fb62",
   "metadata": {},
   "outputs": [
    {
     "name": "stdout",
     "output_type": "stream",
     "text": [
      "[0 0 0 ... 0 0 0]\n"
     ]
    }
   ],
   "source": [
    "print(y_pred)"
   ]
  },
  {
   "cell_type": "markdown",
   "id": "0efc2299",
   "metadata": {},
   "source": [
    "### Metrics"
   ]
  },
  {
   "cell_type": "code",
   "execution_count": 6,
   "id": "7f12b3d2",
   "metadata": {},
   "outputs": [],
   "source": [
    "from sklearn.metrics import confusion_matrix, f1_score, accuracy_score, precision_score, precision_recall_curve, roc_curve, roc_auc_score\n"
   ]
  },
  {
   "cell_type": "code",
   "execution_count": 24,
   "id": "8ec7d8e0",
   "metadata": {},
   "outputs": [
    {
     "name": "stdout",
     "output_type": "stream",
     "text": [
      "0.966583344296803\n"
     ]
    }
   ],
   "source": [
    "model_accuracy = accuracy_score(y_test, y_pred)\n",
    "print(model_accuracy)"
   ]
  },
  {
   "cell_type": "code",
   "execution_count": 25,
   "id": "5f090a2a",
   "metadata": {},
   "outputs": [
    {
     "name": "stdout",
     "output_type": "stream",
     "text": [
      "0.7398736321886934\n"
     ]
    }
   ],
   "source": [
    "model_f1 = f1_score(y_test, y_pred, average='macro')\n",
    "print(model_f1)"
   ]
  },
  {
   "cell_type": "code",
   "execution_count": null,
   "id": "285add05",
   "metadata": {},
   "outputs": [],
   "source": [
    "model_precision = precision_score(y_test, y_pred)\n",
    "print(model_precision)"
   ]
  },
  {
   "cell_type": "code",
   "execution_count": 26,
   "id": "88bd1516",
   "metadata": {},
   "outputs": [
    {
     "name": "stdout",
     "output_type": "stream",
     "text": [
      "[[14443   492]\n",
      " [   16   251]]\n"
     ]
    }
   ],
   "source": [
    "cm = confusion_matrix(y_test, y_pred)\n",
    "print(cm)"
   ]
  },
  {
   "cell_type": "code",
   "execution_count": 29,
   "id": "78265601",
   "metadata": {},
   "outputs": [
    {
     "name": "stdout",
     "output_type": "stream",
     "text": [
      "12920\n"
     ]
    }
   ],
   "source": [
    "tn, fp, fn, tp = confusion_matrix(y_test, y_pred).ravel()\n",
    "cost = fp*10 + fn*500\n",
    "print(cost)"
   ]
  },
  {
   "cell_type": "markdown",
   "id": "aeb51f56",
   "metadata": {},
   "source": [
    "# Random Forest Classifier"
   ]
  },
  {
   "cell_type": "code",
   "execution_count": 3,
   "id": "79fc1a4c",
   "metadata": {
    "scrolled": true
   },
   "outputs": [
    {
     "name": "stdout",
     "output_type": "stream",
     "text": [
      "2022-04-18 10:46:21,716 - kedro.io.data_catalog - INFO - Loading data from `randomforestclassifier` (PickleDataSet)...\n"
     ]
    }
   ],
   "source": [
    "rfc = catalog.load('randomforestclassifier')"
   ]
  },
  {
   "cell_type": "code",
   "execution_count": 4,
   "id": "0850aeaf",
   "metadata": {},
   "outputs": [],
   "source": [
    "y_pred = rfc.predict(x_test)"
   ]
  },
  {
   "cell_type": "code",
   "execution_count": 7,
   "id": "999019e2",
   "metadata": {},
   "outputs": [
    {
     "name": "stdout",
     "output_type": "stream",
     "text": [
      "0.9926983291672148\n"
     ]
    }
   ],
   "source": [
    "model_accuracy = accuracy_score(y_test, y_pred)\n",
    "print(model_accuracy)"
   ]
  },
  {
   "cell_type": "code",
   "execution_count": 8,
   "id": "df9f3aa1",
   "metadata": {},
   "outputs": [
    {
     "name": "stdout",
     "output_type": "stream",
     "text": [
      "0.8924282224017824\n"
     ]
    }
   ],
   "source": [
    "model_f1 = f1_score(y_test, y_pred, average='macro')\n",
    "print(model_f1)"
   ]
  },
  {
   "cell_type": "code",
   "execution_count": 14,
   "id": "3ff019cb",
   "metadata": {},
   "outputs": [
    {
     "name": "stdout",
     "output_type": "stream",
     "text": [
      "0.8023255813953488\n"
     ]
    }
   ],
   "source": [
    "model_precision = precision_score(y_test, y_pred)\n",
    "print(model_precision)"
   ]
  },
  {
   "cell_type": "code",
   "execution_count": 9,
   "id": "3df7990b",
   "metadata": {},
   "outputs": [
    {
     "name": "stdout",
     "output_type": "stream",
     "text": [
      "[[14884    51]\n",
      " [   60   207]]\n"
     ]
    }
   ],
   "source": [
    "cm = confusion_matrix(y_test, y_pred)\n",
    "print(cm)"
   ]
  },
  {
   "cell_type": "code",
   "execution_count": 10,
   "id": "d8f675d1",
   "metadata": {},
   "outputs": [
    {
     "name": "stdout",
     "output_type": "stream",
     "text": [
      "30510\n"
     ]
    }
   ],
   "source": [
    "tn, fp, fn, tp = confusion_matrix(y_test, y_pred).ravel()\n",
    "cost = fp*10 + fn*500\n",
    "print(cost)"
   ]
  },
  {
   "cell_type": "code",
   "execution_count": 15,
   "id": "b498e732",
   "metadata": {},
   "outputs": [
    {
     "data": {
      "image/png": "[encoded data removed]",
      "text/plain": [
       "<Figure size 432x288 with 1 Axes>"
      ]
     },
     "metadata": {
      "needs_background": "light"
     },
     "output_type": "display_data"
    }
   ],
   "source": [
    "import matplotlib.pyplot as plt \n",
    "fpr, tpr, thresholds = roc_curve(y_test, rfc.predict_proba(x_test)[:,1])\n",
    "plt.figure()\n",
    "plt.plot(fpr, tpr, color='darkorange')\n",
    "plt.plot([0, 1], [0, 1], color='navy', lw=2, linestyle='--')\n",
    "plt.xlim([0.0, 1.0])\n",
    "plt.ylim([0.0, 1.05])\n",
    "plt.xlabel('False Positive Rate')\n",
    "plt.ylabel('True Positive Rate')\n",
    "plt.title('Receiver Operating Characteristic')\n",
    "plt.show()"
   ]
  }
 ],
 "metadata": {
  "kernelspec": {
   "display_name": "Kedro (defy)",
   "language": "python",
   "name": "kedro_defy"
  },
  "language_info": {
   "codemirror_mode": {
    "name": "ipython",
    "version": 3
   },
   "file_extension": ".py",
   "mimetype": "text/x-python",
   "name": "python",
   "nbconvert_exporter": "python",
   "pygments_lexer": "ipython3",
   "version": "3.8.10"
  }
 },
 "nbformat": 4,
 "nbformat_minor": 5
}
